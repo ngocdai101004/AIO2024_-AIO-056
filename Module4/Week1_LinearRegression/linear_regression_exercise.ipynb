{
  "nbformat": 4,
  "nbformat_minor": 0,
  "metadata": {
    "colab": {
      "provenance": []
    },
    "kernelspec": {
      "name": "python3",
      "display_name": "Python 3"
    },
    "language_info": {
      "name": "python"
    }
  },
  "cells": [
    {
      "cell_type": "code",
      "execution_count": 1,
      "metadata": {
        "colab": {
          "base_uri": "https://localhost:8080/"
        },
        "id": "2qwgGL5prvw0",
        "outputId": "e1d23260-f86a-4d83-e401-854af2acefd9"
      },
      "outputs": [
        {
          "output_type": "stream",
          "name": "stdout",
          "text": [
            "/usr/local/lib/python3.10/dist-packages/gdown/__main__.py:140: FutureWarning: Option `--id` was deprecated in version 4.3.1 and will be removed in 5.0. You don't need to pass it anymore to use a file ID.\n",
            "  warnings.warn(\n",
            "Downloading...\n",
            "From: https://drive.google.com/uc?id=1FdydikIZfRaENz3CLaZT24Deyc4KvZO3\n",
            "To: /content/advertising.csv\n",
            "100% 4.06k/4.06k [00:00<00:00, 12.2MB/s]\n"
          ]
        }
      ],
      "source": [
        "!gdown --id 1FdydikIZfRaENz3CLaZT24Deyc4KvZO3"
      ]
    },
    {
      "cell_type": "markdown",
      "source": [
        "## Explore The Data"
      ],
      "metadata": {
        "id": "71j4geB8sPIj"
      }
    },
    {
      "cell_type": "code",
      "source": [
        "import numpy as np\n",
        "import pandas as pd\n",
        "import matplotlib.pyplot as plt"
      ],
      "metadata": {
        "id": "oOmN60OjsooX"
      },
      "execution_count": 2,
      "outputs": []
    },
    {
      "cell_type": "code",
      "source": [
        "data_filepath = 'advertising.csv'"
      ],
      "metadata": {
        "id": "iqg6dDXZtEW5"
      },
      "execution_count": 5,
      "outputs": []
    },
    {
      "cell_type": "code",
      "source": [
        "def get_collumn(data, index):\n",
        "    data_array = np.array(data)\n",
        "    return data_array[:, index].tolist()\n",
        "\n",
        "def prepare_data(file_path):\n",
        "    data = np.genfromtxt(data_filepath, delimiter=',', skip_header=True).tolist()\n",
        "    N = len(data)\n",
        "    tv_data = get_collumn(data, 0)\n",
        "    radio_data = get_collumn(data, 1)\n",
        "    newspaper_data = get_collumn(data, 2)\n",
        "    sales_data = get_collumn(data, 3)\n",
        "    X = [tv_data, radio_data, newspaper_data]\n",
        "    y = sales_data\n",
        "    return X, y\n"
      ],
      "metadata": {
        "id": "tiFvb7K-tDoh"
      },
      "execution_count": 21,
      "outputs": []
    },
    {
      "cell_type": "code",
      "source": [
        "X_train, y_train = prepare_data(data_filepath)"
      ],
      "metadata": {
        "id": "S_v2RzjStgRk"
      },
      "execution_count": 49,
      "outputs": []
    },
    {
      "cell_type": "code",
      "source": [
        "# Question 1\n",
        "list = [sum(X_train[0][:5]), sum(X_train[1][:5]), sum(X_train[2][:5]), sum(y_train[:5])]\n",
        "print(list)"
      ],
      "metadata": {
        "colab": {
          "base_uri": "https://localhost:8080/"
        },
        "id": "mXWiqr_Stw3O",
        "outputId": "0a041d34-125b-4d58-887b-aa232077fc69"
      },
      "execution_count": 50,
      "outputs": [
        {
          "output_type": "stream",
          "name": "stdout",
          "text": [
            "[624.1, 175.10000000000002, 300.5, 78.9]\n"
          ]
        }
      ]
    },
    {
      "cell_type": "markdown",
      "source": [
        "## Linear Regression implementation by Scratch"
      ],
      "metadata": {
        "id": "lyopubMmxjIf"
      }
    },
    {
      "cell_type": "code",
      "source": [
        "import random\n",
        "def initialize_params1():\n",
        "    w1 = random.gauss(mu=0.0, sigma =0.01)\n",
        "    w2 = random.gauss(mu=0.0, sigma =0.01)\n",
        "    w3 = random.gauss(mu=0.0, sigma =0.01)\n",
        "    b = 0\n",
        "    return w1, w2, w3, b\n",
        "\n",
        "# Using for exercise\n",
        "w1 , w2 , w3 , b = (0.016992259082509283 , 0.0070783670518262355 , -0.002307860847821344 , 0)"
      ],
      "metadata": {
        "id": "IJkcbeY7txyS"
      },
      "execution_count": 51,
      "outputs": []
    },
    {
      "cell_type": "code",
      "source": [
        "def predict (x1 , x2 , x3 , w1 , w2 , w3 , b):\n",
        "    result = w1 * x1 + w2 * x2 + w3 * x3 + b\n",
        "    return result\n"
      ],
      "metadata": {
        "id": "M3Np9qxOyU-z"
      },
      "execution_count": 52,
      "outputs": []
    },
    {
      "cell_type": "code",
      "source": [
        "# question 2\n",
        "y_hat = predict(x1=1, x2=1, x3=1, w1=0, w2=0.5, w3=0, b=0.5)\n",
        "print(y_hat)"
      ],
      "metadata": {
        "colab": {
          "base_uri": "https://localhost:8080/"
        },
        "id": "UzFdge1ryZ1F",
        "outputId": "4c64f447-e8c7-4d41-dcfa-66faf901dbc4"
      },
      "execution_count": 53,
      "outputs": [
        {
          "output_type": "stream",
          "name": "stdout",
          "text": [
            "1.0\n"
          ]
        }
      ]
    },
    {
      "cell_type": "code",
      "source": [
        "def compute_loss_mse(y_hat, y):\n",
        "    loss = (y_hat - y) ** 2\n",
        "    return loss\n",
        "def compute_loss_mae(y_hat, y):\n",
        "    loss = abs(y_hat - y)\n",
        "    return loss"
      ],
      "metadata": {
        "id": "-uv7riuzyizR"
      },
      "execution_count": 70,
      "outputs": []
    },
    {
      "cell_type": "code",
      "source": [
        "# question 3\n",
        "l = compute_loss_mse(y_hat=1, y=0.5)\n",
        "print(l)"
      ],
      "metadata": {
        "colab": {
          "base_uri": "https://localhost:8080/"
        },
        "id": "p3dSFePUywV7",
        "outputId": "9df74431-99d9-4ca0-fe18-f612f6581423"
      },
      "execution_count": 71,
      "outputs": [
        {
          "output_type": "stream",
          "name": "stdout",
          "text": [
            "0.25\n"
          ]
        }
      ]
    },
    {
      "cell_type": "code",
      "source": [
        "def compute_gradient_wi(xi, y, y_hat):\n",
        "    dl_wi = 2 * (y_hat - y) * xi\n",
        "    return dl_wi\n",
        "\n",
        "def compute_gradient_b(y, y_hat):\n",
        "    dl_b = 2 * (y_hat - y)\n",
        "    return dl_b"
      ],
      "metadata": {
        "id": "01Nzc01uy1KD"
      },
      "execution_count": 56,
      "outputs": []
    },
    {
      "cell_type": "code",
      "source": [
        "# question 4\n",
        "g_wi = compute_gradient_wi(xi=1, y=1, y_hat=0.5)\n",
        "print(g_wi)"
      ],
      "metadata": {
        "colab": {
          "base_uri": "https://localhost:8080/"
        },
        "id": "VqDjrqBizOVf",
        "outputId": "0cb22bde-8a52-46b2-a90e-670f69e0f74d"
      },
      "execution_count": 57,
      "outputs": [
        {
          "output_type": "stream",
          "name": "stdout",
          "text": [
            "-1.0\n"
          ]
        }
      ]
    },
    {
      "cell_type": "code",
      "source": [
        "# question 5\n",
        "g_b = compute_gradient_b(y=2.0, y_hat=0.5)\n",
        "print(g_b)"
      ],
      "metadata": {
        "colab": {
          "base_uri": "https://localhost:8080/"
        },
        "id": "aw11dtqRzZlY",
        "outputId": "c0b9089d-a731-4990-a881-e666665fe3bc"
      },
      "execution_count": 58,
      "outputs": [
        {
          "output_type": "stream",
          "name": "stdout",
          "text": [
            "-3.0\n"
          ]
        }
      ]
    },
    {
      "cell_type": "code",
      "source": [
        "def update_weight_wi(wi, dl_wi, lr):\n",
        "    w_new = wi - lr * dl_wi\n",
        "    return w_new\n",
        "\n",
        "def update_weight_b(b, dl_b, lr):\n",
        "    b_new = b - lr * dl_b\n",
        "    return b_new"
      ],
      "metadata": {
        "id": "DB56KTgEzmV6"
      },
      "execution_count": 59,
      "outputs": []
    },
    {
      "cell_type": "code",
      "source": [
        "# question 6\n",
        "after_wi = update_weight_wi(wi=1.0, dl_wi=-0.5, lr=1e-5)\n",
        "print(after_wi)"
      ],
      "metadata": {
        "colab": {
          "base_uri": "https://localhost:8080/"
        },
        "id": "at7ZgFkHz-E8",
        "outputId": "b6e3cb9b-d005-4dac-c38a-407792122176"
      },
      "execution_count": 60,
      "outputs": [
        {
          "output_type": "stream",
          "name": "stdout",
          "text": [
            "1.000005\n"
          ]
        }
      ]
    },
    {
      "cell_type": "code",
      "source": [
        "# question 7\n",
        "after_b = update_weight_b(b=0.5, dl_b=-1.0, lr=1e-5)\n",
        "print(after_b)"
      ],
      "metadata": {
        "colab": {
          "base_uri": "https://localhost:8080/"
        },
        "id": "zcxWXO8K0LHs",
        "outputId": "859fe4fb-e871-47c0-d61b-adaab7f8a478"
      },
      "execution_count": 61,
      "outputs": [
        {
          "output_type": "stream",
          "name": "stdout",
          "text": [
            "0.50001\n"
          ]
        }
      ]
    },
    {
      "cell_type": "code",
      "source": [
        "# Using for exercise\n",
        "def initialize_params():\n",
        "    w1 , w2 , w3 , b = (0.016992259082509283 , 0.0070783670518262355 , -0.002307860847821344 , 0)\n",
        "    return w1, w2, w3, b\n",
        "\n",
        "def implement_linear_regression(X_data, y_data, lr=1e-5, epochs_max=50, compute_loss=compute_loss_mse):\n",
        "    losses = []\n",
        "\n",
        "    w1, w2, w3, b = initialize_params()\n",
        "\n",
        "    N = len(y_data)\n",
        "\n",
        "    for epoch in range(epochs_max):\n",
        "        for i in range(N):\n",
        "            x1 = X_data[0][i]\n",
        "            x2 = X_data[1][i]\n",
        "            x3 = X_data[2][i]\n",
        "            y = y_data[i]\n",
        "\n",
        "            y_hat = predict(x1, x2, x3, w1, w2, w3, b)\n",
        "\n",
        "            loss = compute_loss(y_hat, y)\n",
        "            losses.append(loss)\n",
        "\n",
        "            dl_w1 = compute_gradient_wi(x1, y, y_hat)\n",
        "            dl_w2 = compute_gradient_wi(x2, y, y_hat)\n",
        "            dl_w3 = compute_gradient_wi(x3, y, y_hat)\n",
        "            dl_b = compute_gradient_b(y, y_hat)\n",
        "\n",
        "            w1 = update_weight_wi(w1, dl_w1, lr)\n",
        "            w2 = update_weight_wi(w2, dl_w2, lr)\n",
        "            w3 = update_weight_wi(w3, dl_w3, lr)\n",
        "            b = update_weight_b(b, dl_b, lr)\n",
        "\n",
        "    return w1, w2, w3, b, losses"
      ],
      "metadata": {
        "id": "MZ3nMc7S0Trc"
      },
      "execution_count": 72,
      "outputs": []
    },
    {
      "cell_type": "markdown",
      "source": [
        "## Training"
      ],
      "metadata": {
        "id": "rg7hFf2Y18nB"
      }
    },
    {
      "cell_type": "code",
      "source": [
        "w1, w2, w3, b, losses = implement_linear_regression(X_train, y_train)\n",
        "plt.plot(losses[:100])\n",
        "plt.xlabel('#iteration')\n",
        "plt.ylabel('Loss')\n",
        "plt.show()\n"
      ],
      "metadata": {
        "colab": {
          "base_uri": "https://localhost:8080/",
          "height": 449
        },
        "id": "yJHK24m11hCZ",
        "outputId": "d5bb95fa-c451-4a02-d580-35b2e38ecec6"
      },
      "execution_count": 65,
      "outputs": [
        {
          "output_type": "display_data",
          "data": {
            "text/plain": [
              "<Figure size 640x480 with 1 Axes>"
            ],
            "image/png": "[encoded data removed]"
          },
          "metadata": {}
        }
      ]
    },
    {
      "cell_type": "code",
      "source": [
        "# question 8\n",
        "print(w1, w2, w3)"
      ],
      "metadata": {
        "colab": {
          "base_uri": "https://localhost:8080/"
        },
        "id": "mGbnV3kp2Np6",
        "outputId": "d9958801-46c1-4e10-c426-22f87741e40b"
      },
      "execution_count": 66,
      "outputs": [
        {
          "output_type": "stream",
          "name": "stdout",
          "text": [
            "0.07405984066396477 0.15917360263437663 0.017561197559948935\n"
          ]
        }
      ]
    },
    {
      "cell_type": "code",
      "source": [],
      "metadata": {
        "id": "72p78ZRD2_nI"
      },
      "execution_count": null,
      "outputs": []
    },
    {
      "cell_type": "code",
      "source": [
        "# given new data\n",
        "tv = 19.2\n",
        "radio = 35.9\n",
        "newspaper = 51.3\n",
        "X,y = prepare_data('advertising.csv')\n",
        "(w1 ,w2 ,w3 ,b, losses) = implement_linear_regression(X, y)\n",
        "sales = predict (tv, radio, newspaper, w1 , w2 , w3 , b)\n",
        "print (f'predicted sales is { sales }')"
      ],
      "metadata": {
        "colab": {
          "base_uri": "https://localhost:8080/"
        },
        "id": "b2kmqhGm3FWM",
        "outputId": "aa034345-c768-42bf-89e3-fe2b2406f075"
      },
      "execution_count": 69,
      "outputs": [
        {
          "output_type": "stream",
          "name": "stdout",
          "text": [
            "predicted sales is 8.176413319549823\n"
          ]
        }
      ]
    },
    {
      "cell_type": "code",
      "source": [
        "# question 10\n",
        "X,y = prepare_data('advertising.csv')\n",
        "w1, w2, w3, b, losses = implement_linear_regression(X, y, compute_loss=compute_loss_mae)\n",
        "plt.plot(losses[:100])\n",
        "plt.xlabel('#iteration')\n",
        "plt.ylabel('Loss')\n",
        "plt.show()"
      ],
      "metadata": {
        "colab": {
          "base_uri": "https://localhost:8080/",
          "height": 449
        },
        "id": "ZvOdkF_d3dgD",
        "outputId": "be41e300-4172-4001-cd87-dcd06c36aef0"
      },
      "execution_count": 73,
      "outputs": [
        {
          "output_type": "display_data",
          "data": {
            "text/plain": [
              "<Figure size 640x480 with 1 Axes>"
            ],
            "image/png": "[encoded data removed]"
          },
          "metadata": {}
        }
      ]
    },
    {
      "cell_type": "code",
      "source": [],
      "metadata": {
        "id": "ba0dLx-q4J_H"
      },
      "execution_count": null,
      "outputs": []
    },
    {
      "cell_type": "markdown",
      "source": [
        "## Training - Batch N samples"
      ],
      "metadata": {
        "id": "rAbJ4WNz4Zm1"
      }
    },
    {
      "cell_type": "code",
      "source": [
        "# Using for exercise\n",
        "def initialize_params():\n",
        "    w1 , w2 , w3 , b = (0.016992259082509283 , 0.0070783670518262355 , -0.002307860847821344 , 0)\n",
        "    return w1, w2, w3, b\n",
        "\n",
        "def implement_linear_regression_nsamples(X_data, y_data, lr=1e-5, epochs_max=50, compute_loss=compute_loss_mse):\n",
        "    losses = []\n",
        "\n",
        "    w1, w2, w3, b = initialize_params()\n",
        "\n",
        "    N = len(y_data)\n",
        "\n",
        "    for epoch in range(epochs_max):\n",
        "        loss_total = 0\n",
        "        dw1_total = 0\n",
        "        dw2_total = 0\n",
        "        dw3_total = 0\n",
        "        db_total = 0\n",
        "        for i in range(N):\n",
        "            x1 = X_data[0][i]\n",
        "            x2 = X_data[1][i]\n",
        "            x3 = X_data[2][i]\n",
        "            y = y_data[i]\n",
        "\n",
        "            y_hat = predict(x1, x2, x3, w1, w2, w3, b)\n",
        "\n",
        "            loss = compute_loss(y_hat, y)\n",
        "            loss_total += loss\n",
        "\n",
        "            dl_w1 = compute_gradient_wi(x1, y, y_hat)\n",
        "            dl_w2 = compute_gradient_wi(x2, y, y_hat)\n",
        "            dl_w3 = compute_gradient_wi(x3, y, y_hat)\n",
        "            dl_b = compute_gradient_b(y, y_hat)\n",
        "\n",
        "            dw1_total += dl_w1\n",
        "            dw2_total += dl_w2\n",
        "            dw3_total += dl_w3\n",
        "            db_total += dl_b\n",
        "\n",
        "        w1 = update_weight_wi(w1, dw1_total/N, lr)\n",
        "        w2 = update_weight_wi(w2, dw2_total/N, lr)\n",
        "        w3 = update_weight_wi(w3, dw3_total/N, lr)\n",
        "        b = update_weight_b(b, db_total/N, lr)\n",
        "\n",
        "        losses.append(loss_total/N)\n",
        "\n",
        "\n",
        "    return w1, w2, w3, b, losses"
      ],
      "metadata": {
        "id": "aVYuoa0N4axA"
      },
      "execution_count": 93,
      "outputs": []
    },
    {
      "cell_type": "code",
      "source": [
        "# question 10\n",
        "X,y = prepare_data('advertising.csv')\n",
        "w1, w2, w3, b, losses = implement_linear_regression_nsamples(X, y, epochs_max=1000, compute_loss=compute_loss_mse)\n",
        "w11, w21, w31, b1, losses1 = implement_linear_regression_nsamples(X, y, epochs_max=1000, compute_loss=compute_loss_mae)\n",
        "\n",
        "fig, axes = plt.subplots(1, 2, figsize=(10, 4))\n",
        "axes[0].plot(losses)\n",
        "axes[0].set_xlabel('#iteration')\n",
        "axes[0].set_ylabel('MSE Loss')\n",
        "axes[0].set_title('MSE Loss')\n",
        "\n",
        "axes[1].plot(losses1)\n",
        "axes[1].set_xlabel('#iteration')\n",
        "axes[1].set_ylabel('MAE Loss')\n",
        "axes[1].set_title('MAE Loss')\n",
        "\n",
        "plt.tight_layout()\n",
        "plt.show()"
      ],
      "metadata": {
        "colab": {
          "base_uri": "https://localhost:8080/",
          "height": 407
        },
        "id": "yI_U3lUv6X5v",
        "outputId": "7a784f3b-613f-46bf-bec1-ace8d4dc1dbc"
      },
      "execution_count": 94,
      "outputs": [
        {
          "output_type": "display_data",
          "data": {
            "text/plain": [
              "<Figure size 1000x400 with 2 Axes>"
            ],
            "image/png": "[encoded data removed]"
          },
          "metadata": {}
        }
      ]
    },
    {
      "cell_type": "code",
      "source": [
        "#question 11\n",
        "print(w1, w2, w3)"
      ],
      "metadata": {
        "colab": {
          "base_uri": "https://localhost:8080/"
        },
        "id": "QUUjd9Fo6d8O",
        "outputId": "58321e3d-cd1f-496b-d1b3-5ac94684f78f"
      },
      "execution_count": 95,
      "outputs": [
        {
          "output_type": "stream",
          "name": "stdout",
          "text": [
            "0.06710990754044266 0.15756173831487585 0.029619799386084403\n"
          ]
        }
      ]
    },
    {
      "cell_type": "markdown",
      "source": [
        "# Implementation with numpy"
      ],
      "metadata": {
        "id": "BOOkOs2a8qFK"
      }
    },
    {
      "cell_type": "code",
      "source": [
        "def get_collumn_(data, index):\n",
        "    data_array = np.array(data)\n",
        "    return data_array[:, index].tolist()\n",
        "\n",
        "def prepare_data_(file_path):\n",
        "    data = np.genfromtxt(data_filepath, delimiter=',', skip_header=True).tolist()\n",
        "    N = len(data)\n",
        "    tv_data = get_collumn(data, 0)\n",
        "    radio_data = get_collumn(data, 1)\n",
        "    newspaper_data = get_collumn(data, 2)\n",
        "    sales_data = get_collumn(data, 3)\n",
        "    X = [[x1, x2, x3] for x1, x2, x3 in zip(tv_data, radio_data, newspaper_data)]\n",
        "    y = sales_data\n",
        "    return X, y\n",
        "import random\n",
        "def initialize_params_():\n",
        "    w1 = random.gauss(mu=0.0, sigma =0.01)\n",
        "    w2 = random.gauss(mu=0.0, sigma =0.01)\n",
        "    w3 = random.gauss(mu=0.0, sigma =0.01)\n",
        "    b = 0\n",
        "    return [0, -0.01268850433497871 , 0.004752496982185252 , 0.0073796171538643845]\n",
        "    # return b, w1, w2, w3\n",
        "\n",
        "def predict_(X_feature, weight):\n",
        "    result = np.dot(X_feature, weight)\n",
        "    return result\n",
        "def compute_loss_mae_(y_hat, y):\n",
        "    loss = abs(y_hat - y)\n",
        "    return loss\n",
        "def compute_loss_mse_(y_hat, y):\n",
        "    loss = (y_hat - y) ** 2\n",
        "    return loss\n",
        "\n",
        "def compute_gradient_(X_feature, y, y_hat):\n",
        "    dl_wi = 2 * (y_hat - y) * X_feature\n",
        "    return dl_wi\n",
        "\n",
        "def update_weight_(wi, dl_wi, lr):\n",
        "    w_new = wi - lr * dl_wi\n",
        "    return w_new\n"
      ],
      "metadata": {
        "id": "i1QM4-Nq7rFG"
      },
      "execution_count": 98,
      "outputs": []
    },
    {
      "cell_type": "code",
      "source": [
        "def implement_linear_regression_numpy(X_data, y_data, lr=1e-5, epochs_max=50, compute_loss=compute_loss_mse):\n",
        "    losses = []\n",
        "    w = initialize_params_()\n",
        "    N = len(y_data)\n",
        "    for epoch in range(epochs_max):\n",
        "        for i in range(N):\n",
        "            features_i = X_data[i]\n",
        "            y = y_data[i]\n",
        "            y_hat = predict_(features_i, w)\n",
        "            loss = compute_loss(y_hat, y)\n",
        "            losses.append(loss)\n",
        "            dl_w = compute_gradient_(features_i, y, y_hat)\n",
        "            w = update_weight_(w, dl_w, lr)\n",
        "    return w, losses\n"
      ],
      "metadata": {
        "id": "b25JOUkF9ACE"
      },
      "execution_count": 99,
      "outputs": []
    },
    {
      "cell_type": "code",
      "source": [
        "X, y = prepare_data_(data_filepath)\n",
        "X = np.array(X)\n",
        "y = np.array(y)\n",
        "bias = np.ones(len(y))\n",
        "X = np.column_stack((bias, X))\n",
        "w, losses = implement_linear_regression_numpy(X, y, epochs_max=1000, compute_loss=compute_loss_mse)\n",
        "print(w)"
      ],
      "metadata": {
        "colab": {
          "base_uri": "https://localhost:8080/"
        },
        "id": "xRMktY0h-Lpf",
        "outputId": "6c977253-743f-49f5-a132-b2cc08c89197"
      },
      "execution_count": 101,
      "outputs": [
        {
          "output_type": "stream",
          "name": "stdout",
          "text": [
            "[2.11378449 0.065719   0.1376771  0.00789136]\n"
          ]
        }
      ]
    },
    {
      "cell_type": "code",
      "source": [
        "plt.plot(losses[:100])\n",
        "plt.xlabel('#iteration')\n",
        "plt.ylabel('Loss')\n",
        "plt.show()"
      ],
      "metadata": {
        "colab": {
          "base_uri": "https://localhost:8080/",
          "height": 449
        },
        "id": "YUDsJ3Tx-VxT",
        "outputId": "cc0a98cb-ba3e-4fd3-e615-66a4566af5cd"
      },
      "execution_count": 102,
      "outputs": [
        {
          "output_type": "display_data",
          "data": {
            "text/plain": [
              "<Figure size 640x480 with 1 Axes>"
            ],
            "image/png": "[encoded data removed]"
          },
          "metadata": {}
        }
      ]
    },
    {
      "cell_type": "code",
      "source": [
        "# question 12\n",
        "print(losses[9999])"
      ],
      "metadata": {
        "colab": {
          "base_uri": "https://localhost:8080/"
        },
        "id": "ctn3zX3H-iye",
        "outputId": "d30cf441-96cd-452e-f435-8b718332fae2"
      },
      "execution_count": 103,
      "outputs": [
        {
          "output_type": "stream",
          "name": "stdout",
          "text": [
            "31.339223408109948\n"
          ]
        }
      ]
    },
    {
      "cell_type": "code",
      "source": [],
      "metadata": {
        "id": "nnrw7GMG-tMT"
      },
      "execution_count": null,
      "outputs": []
    }
  ]
}