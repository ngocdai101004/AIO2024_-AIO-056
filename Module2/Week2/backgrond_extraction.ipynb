{
 "cells": [
  {
   "cell_type": "code",
   "execution_count": 1,
   "metadata": {},
   "outputs": [],
   "source": [
    "import numpy as np\n",
    "import cv2"
   ]
  },
  {
   "cell_type": "code",
   "execution_count": 2,
   "metadata": {},
   "outputs": [],
   "source": [
    "image_background = cv2.imread('data/NewBackground.jpg', 1)\n",
    "image_background = cv2.resize(image_background, (678, 381))\n",
    "image_object = cv2.imread('data/Object.png', 1)\n",
    "image_object = cv2.resize(image_object, (678, 381))\n",
    "green_background = cv2.imread('data/GreenBackground.png')\n",
    "green_background = cv2.resize(green_background, (678, 381))"
   ]
  },
  {
   "cell_type": "code",
   "execution_count": 3,
   "metadata": {},
   "outputs": [],
   "source": [
    "def compute_difference(bg_img, input_img):\n",
    "    difference_three_channel = cv2.absdiff(bg_img, input_img)\n",
    "    difference_single_channel = np.sum(difference_three_channel, axis=2) / 3.0\n",
    "    difference_single_channel = difference_single_channel.astype('uint8')\n",
    "\n",
    "    return difference_single_channel\n",
    "\n",
    "\n",
    "def compute_binary_mask(difference_single_channel):\n",
    "    difference_binary = np.where(difference_single_channel >= 15, 255, 0)\n",
    "    difference_binary = np.stack((difference_binary,)*3, axis=-1)\n",
    "    return difference_binary"
   ]
  },
  {
   "cell_type": "code",
   "execution_count": 5,
   "metadata": {},
   "outputs": [],
   "source": [
    "difference_single_channel = compute_difference(image_object, image_background)\n",
    "binary_mask = compute_binary_mask(difference_single_channel)"
   ]
  },
  {
   "cell_type": "code",
   "execution_count": 6,
   "metadata": {},
   "outputs": [],
   "source": [
    "def replace_background(bg1_image, bg2_image, ob_image):\n",
    "    difference_single_channel = compute_difference(bg1_image, ob_image)\n",
    "    binary_mask = compute_binary_mask(difference_single_channel)\n",
    "\n",
    "    output = np.where(binary_mask == 255, ob_image, bg2_image)\n",
    "\n",
    "    return output"
   ]
  },
  {
   "cell_type": "code",
   "execution_count": 21,
   "metadata": {},
   "outputs": [
    {
     "data": {
      "text/plain": [
       "<function destroyAllWindows>"
      ]
     },
     "execution_count": 21,
     "metadata": {},
     "output_type": "execute_result"
    }
   ],
   "source": [
    "output = replace_background(green_background, image_background, image_object)\n",
    "cv2.imshow('Image', output)\n",
    "cv2.waitKey(0)\n",
    "cv2.destroyAllWindows"
   ]
  },
  {
   "cell_type": "code",
   "execution_count": null,
   "metadata": {},
   "outputs": [],
   "source": []
  }
 ],
 "metadata": {
  "kernelspec": {
   "display_name": "pythonEnv",
   "language": "python",
   "name": "python3"
  },
  "language_info": {
   "codemirror_mode": {
    "name": "ipython",
    "version": 3
   },
   "file_extension": ".py",
   "mimetype": "text/x-python",
   "name": "python",
   "nbconvert_exporter": "python",
   "pygments_lexer": "ipython3",
   "version": "3.12.2"
  }
 },
 "nbformat": 4,
 "nbformat_minor": 2
}
