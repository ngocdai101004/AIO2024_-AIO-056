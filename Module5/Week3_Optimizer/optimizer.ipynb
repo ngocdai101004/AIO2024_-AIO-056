{
 "cells": [
  {
   "cell_type": "code",
   "execution_count": null,
   "metadata": {},
   "outputs": [],
   "source": [
    "import numpy as np\n"
   ]
  },
  {
   "cell_type": "code",
   "execution_count": null,
   "metadata": {},
   "outputs": [],
   "source": [
    "def fw (W):\n",
    "    W = np.array(W)\n",
    "    coff = np.array([0.1, 2])\n",
    "    return np.sum(coff*W**2)\n"
   ]
  },
  {
   "cell_type": "markdown",
   "metadata": {},
   "source": [
    "# 1. Gradient Descent\n"
   ]
  },
  {
   "cell_type": "code",
   "execution_count": 43,
   "metadata": {},
   "outputs": [],
   "source": [
    "def df_w(W):\n",
    "    W = np.array(W)\n",
    "    coff = np.array([0.1, 2])\n",
    "    return 2*coff*W\n"
   ]
  },
  {
   "cell_type": "code",
   "execution_count": null,
   "metadata": {},
   "outputs": [],
   "source": [
    "def sgd(W, dW, lr):\n",
    "    W = W - lr*dW\n",
    "    return W\n"
   ]
  },
  {
   "cell_type": "code",
   "execution_count": null,
   "metadata": {},
   "outputs": [
    {
     "name": "stdout",
     "output_type": "stream",
     "text": [
      "Epoch:  1: W = [-4.6  1.2]\n",
      "Epoch:  2: W = [-4.232 -0.72 ]\n",
      "Epoch:  3: W = [-3.89344  0.432  ]\n",
      "Epoch:  4: W = [-3.5819648 -0.2592   ]\n",
      "Epoch:  5: W = [-3.29540762  0.15552   ]\n",
      "Epoch:  6: W = [-3.03177501 -0.093312  ]\n",
      "Epoch:  7: W = [-2.78923301  0.0559872 ]\n",
      "Epoch:  8: W = [-2.56609437 -0.03359232]\n",
      "Epoch:  9: W = [-2.36080682  0.02015539]\n",
      "Epoch: 10: W = [-2.17194227 -0.01209324]\n",
      "Epoch: 11: W = [-1.99818689  0.00725594]\n",
      "Epoch: 12: W = [-1.83833194 -0.00435356]\n",
      "Epoch: 13: W = [-1.69126538  0.00261214]\n",
      "Epoch: 14: W = [-1.55596415 -0.00156728]\n",
      "Epoch: 15: W = [-1.43148702e+00  9.40369969e-04]\n",
      "Epoch: 16: W = [-1.31696806e+00 -5.64221981e-04]\n",
      "Epoch: 17: W = [-1.21161061e+00  3.38533189e-04]\n",
      "Epoch: 18: W = [-1.11468176e+00 -2.03119913e-04]\n",
      "Epoch: 19: W = [-1.02550722e+00  1.21871948e-04]\n",
      "Epoch: 20: W = [-9.43466646e-01 -7.31231688e-05]\n",
      "Epoch: 21: W = [-8.67989314e-01  4.38739013e-05]\n",
      "Epoch: 22: W = [-7.98550169e-01 -2.63243408e-05]\n",
      "Epoch: 23: W = [-7.34666155e-01  1.57946045e-05]\n",
      "Epoch: 24: W = [-6.75892863e-01 -9.47676268e-06]\n",
      "Epoch: 25: W = [-6.21821434e-01  5.68605761e-06]\n",
      "Epoch: 26: W = [-5.72075719e-01 -3.41163456e-06]\n",
      "Epoch: 27: W = [-5.26309662e-01  2.04698074e-06]\n",
      "Epoch: 28: W = [-4.84204889e-01 -1.22818844e-06]\n",
      "Epoch: 29: W = [-4.45468498e-01  7.36913066e-07]\n",
      "Epoch: 30: W = [-4.09831018e-01 -4.42147839e-07]\n"
     ]
    },
    {
     "data": {
      "text/plain": [
       "[array([-5., -2.]),\n",
       " array([-4.6,  1.2]),\n",
       " array([-4.232, -0.72 ]),\n",
       " array([-3.89344,  0.432  ]),\n",
       " array([-3.5819648, -0.2592   ]),\n",
       " array([-3.29540762,  0.15552   ]),\n",
       " array([-3.03177501, -0.093312  ]),\n",
       " array([-2.78923301,  0.0559872 ]),\n",
       " array([-2.56609437, -0.03359232]),\n",
       " array([-2.36080682,  0.02015539]),\n",
       " array([-2.17194227, -0.01209324]),\n",
       " array([-1.99818689,  0.00725594]),\n",
       " array([-1.83833194, -0.00435356]),\n",
       " array([-1.69126538,  0.00261214]),\n",
       " array([-1.55596415, -0.00156728]),\n",
       " array([-1.43148702e+00,  9.40369969e-04]),\n",
       " array([-1.31696806e+00, -5.64221981e-04]),\n",
       " array([-1.21161061e+00,  3.38533189e-04]),\n",
       " array([-1.11468176e+00, -2.03119913e-04]),\n",
       " array([-1.02550722e+00,  1.21871948e-04]),\n",
       " array([-9.43466646e-01, -7.31231688e-05]),\n",
       " array([-8.67989314e-01,  4.38739013e-05]),\n",
       " array([-7.98550169e-01, -2.63243408e-05]),\n",
       " array([-7.34666155e-01,  1.57946045e-05]),\n",
       " array([-6.75892863e-01, -9.47676268e-06]),\n",
       " array([-6.21821434e-01,  5.68605761e-06]),\n",
       " array([-5.72075719e-01, -3.41163456e-06]),\n",
       " array([-5.26309662e-01,  2.04698074e-06]),\n",
       " array([-4.84204889e-01, -1.22818844e-06]),\n",
       " array([-4.45468498e-01,  7.36913066e-07]),\n",
       " array([-4.09831018e-01, -4.42147839e-07])]"
      ]
     },
     "execution_count": 54,
     "metadata": {},
     "output_type": "execute_result"
    }
   ],
   "source": [
    "# Example\n",
    "def train_p1_1(optimizer, lr, epochs):\n",
    "    W = np.array([-5,-2], dtype=np.float64)\n",
    "    results = [W]\n",
    "    for i in range(epochs):\n",
    "        dW = df_w(W)\n",
    "        W =optimizer(W, dW, lr)\n",
    "        results.append(W)\n",
    "        print(\"Epoch: {:>2}: W = {}\".format(i + 1, W))\n",
    "    return results\n",
    "\n",
    "epoch = 30\n",
    "lr = 0.4\n",
    "train_p1_1(sgd, lr, epoch)\n"
   ]
  },
  {
   "cell_type": "markdown",
   "metadata": {},
   "source": [
    "# 2. Gradient Descent + Momentum\n"
   ]
  },
  {
   "cell_type": "code",
   "execution_count": null,
   "metadata": {},
   "outputs": [],
   "source": [
    "def sgd_momentum(W, dW, lr, V, beta):\n",
    "    V = np.array(beta*V + (1-beta)*dW)\n",
    "    W = np.array(W - lr*V)\n",
    "    return W, V\n"
   ]
  },
  {
   "cell_type": "code",
   "execution_count": null,
   "metadata": {},
   "outputs": [
    {
     "name": "stdout",
     "output_type": "stream",
     "text": [
      "Epoch:  1: W = [-4.7  0.4]\n",
      "Epoch:  2: W = [-4.268  1.12 ]\n",
      "Epoch:  3: W = [-3.79592  0.136  ]\n",
      "Epoch:  4: W = [-3.3321248 -0.5192   ]\n",
      "Epoch:  5: W = [-2.90029971 -0.22376   ]\n",
      "Epoch:  6: W = [-2.51036919  0.192472  ]\n",
      "Epoch:  7: W = [-2.16478177  0.1696216 ]\n",
      "Epoch:  8: W = [-1.86210116 -0.04534952]\n",
      "Epoch:  9: W = [-1.59903478 -0.09841566]\n",
      "Epoch: 10: W = [-1.37155951 -0.00684994]\n",
      "Epoch: 11: W = [-1.1755283   0.04715285]\n",
      "Epoch: 12: W = [-1.006981    0.01757082]\n",
      "Epoch: 13: W = [-0.86228849 -0.01830518]\n",
      "Epoch: 14: W = [-0.73820492 -0.01427696]\n",
      "Epoch: 15: W = [-0.63187084  0.0048695 ]\n",
      "Epoch: 16: W = [-0.54079155  0.00859933]\n",
      "Epoch: 17: W = [-4.62804416e-01  1.45050014e-04]\n",
      "Epoch: 18: W = [-0.39604258 -0.00425615]\n",
      "Epoch: 19: W = [-0.33889911 -0.00134937]\n",
      "Epoch: 20: W = [-0.28999343  0.00172326]\n",
      "Epoch: 21: W = [-0.24814098  0.00119166]\n",
      "Epoch: 22: W = [-0.2123263  -0.00050413]\n",
      "Epoch: 23: W = [-0.18167938 -0.00074707]\n",
      "Epoch: 24: W = [-1.55455157e-01  2.79448010e-05]\n",
      "Epoch: 25: W = [-0.13301574  0.00038192]\n",
      "Epoch: 26: W = [-1.13815082e-01  1.00603444e-04]\n",
      "Epoch: 27: W = [-0.09738585 -0.00016078]\n",
      "Epoch: 28: W = [-8.33280829e-02 -9.85353344e-05]\n",
      "Epoch: 29: W = [-7.12995144e-02  5.08287536e-05]\n",
      "Epoch: 30: W = [-6.10072592e-02  6.45162933e-05]\n"
     ]
    },
    {
     "data": {
      "text/plain": [
       "[array([-5., -2.]),\n",
       " array([-4.7,  0.4]),\n",
       " array([-4.268,  1.12 ]),\n",
       " array([-3.79592,  0.136  ]),\n",
       " array([-3.3321248, -0.5192   ]),\n",
       " array([-2.90029971, -0.22376   ]),\n",
       " array([-2.51036919,  0.192472  ]),\n",
       " array([-2.16478177,  0.1696216 ]),\n",
       " array([-1.86210116, -0.04534952]),\n",
       " array([-1.59903478, -0.09841566]),\n",
       " array([-1.37155951, -0.00684994]),\n",
       " array([-1.1755283 ,  0.04715285]),\n",
       " array([-1.006981  ,  0.01757082]),\n",
       " array([-0.86228849, -0.01830518]),\n",
       " array([-0.73820492, -0.01427696]),\n",
       " array([-0.63187084,  0.0048695 ]),\n",
       " array([-0.54079155,  0.00859933]),\n",
       " array([-4.62804416e-01,  1.45050014e-04]),\n",
       " array([-0.39604258, -0.00425615]),\n",
       " array([-0.33889911, -0.00134937]),\n",
       " array([-0.28999343,  0.00172326]),\n",
       " array([-0.24814098,  0.00119166]),\n",
       " array([-0.2123263 , -0.00050413]),\n",
       " array([-0.18167938, -0.00074707]),\n",
       " array([-1.55455157e-01,  2.79448010e-05]),\n",
       " array([-0.13301574,  0.00038192]),\n",
       " array([-1.13815082e-01,  1.00603444e-04]),\n",
       " array([-0.09738585, -0.00016078]),\n",
       " array([-8.33280829e-02, -9.85353344e-05]),\n",
       " array([-7.12995144e-02,  5.08287536e-05]),\n",
       " array([-6.10072592e-02,  6.45162933e-05])]"
      ]
     },
     "execution_count": 57,
     "metadata": {},
     "output_type": "execute_result"
    }
   ],
   "source": [
    "# Example\n",
    "def train_p1_2(optimizer, lr, epochs, beta):\n",
    "    W = np.array([-5,-2], dtype=np.float64)\n",
    "    results = [W]\n",
    "    V = np.zeros_like(W)\n",
    "    for i in range(epochs):\n",
    "        dW = df_w(W)\n",
    "        W, V =optimizer(W, dW, lr, V, beta)\n",
    "        results.append(W)\n",
    "        print(\"Epoch: {:>2}: W = {}\".format(i+1, W))\n",
    "    return results\n",
    "\n",
    "epoch = 30\n",
    "lr = 0.6\n",
    "beta = 0.5\n",
    "\n",
    "train_p1_2(sgd_momentum, lr, epoch, beta)\n"
   ]
  },
  {
   "cell_type": "markdown",
   "metadata": {},
   "source": [
    "# 3. RMSProb\n"
   ]
  },
  {
   "cell_type": "code",
   "execution_count": null,
   "metadata": {},
   "outputs": [],
   "source": [
    "def RMSProp(W, dW, lr, S, gamma):\n",
    "    epsilon = 1e-6\n",
    "    S = np.array(gamma*S + (1-gamma)*dW**2)\n",
    "    W = np.array(W - lr*dW/np.sqrt(S + epsilon))\n",
    "    return W, S\n"
   ]
  },
  {
   "cell_type": "code",
   "execution_count": null,
   "metadata": {},
   "outputs": [
    {
     "name": "stdout",
     "output_type": "stream",
     "text": [
      "Epoch:  1: W = [-4.05132145 -1.05131678]\n",
      "Epoch:  2: W = [-3.43519754 -0.59152343]\n",
      "Epoch:  3: W = [-2.95893693 -0.3294394 ]\n",
      "Epoch:  4: W = [-2.56546289 -0.17756482]\n",
      "Epoch:  5: W = [-2.22920552 -0.09163256]\n",
      "Epoch:  6: W = [-1.93626752 -0.04494499]\n",
      "Epoch:  7: W = [-1.67817686 -0.02081423]\n",
      "Epoch:  8: W = [-1.44934985 -0.00903559]\n",
      "Epoch:  9: W = [-1.24588199 -0.00364591]\n",
      "Epoch: 10: W = [-1.06490301 -0.00135351]\n",
      "Epoch: 11: W = [-9.04202260e-01 -4.56444431e-04]\n",
      "Epoch: 12: W = [-7.61996495e-01 -1.37562928e-04]\n",
      "Epoch: 13: W = [-6.36778499e-01 -3.62601019e-05]\n",
      "Epoch: 14: W = [-5.27215237e-01 -8.11337456e-06]\n",
      "Epoch: 15: W = [-4.32078505e-01 -1.47473412e-06]\n",
      "Epoch: 16: W = [-3.50198507e-01 -2.02783991e-07]\n",
      "Epoch: 17: W = [-2.80434649e-01 -1.84231187e-08]\n",
      "Epoch: 18: W = [-2.21659834e-01 -7.67742748e-10]\n",
      "Epoch: 19: W = [-1.72755512e-01  7.80451998e-12]\n",
      "Epoch: 20: W = [-1.32615134e-01 -5.05794800e-13]\n",
      "Epoch: 21: W = [-1.00153779e-01  6.19123501e-14]\n",
      "Epoch: 22: W = [-7.43217708e-02 -1.13373781e-14]\n",
      "Epoch: 23: W = [-5.41201278e-02  2.80166702e-15]\n",
      "Epoch: 24: W = [-3.86159157e-02 -8.81341191e-16]\n",
      "Epoch: 25: W = [-2.69558066e-02  3.39921117e-16]\n",
      "Epoch: 26: W = [-1.83765633e-02 -1.56581731e-16]\n",
      "Epoch: 27: W = [-1.22116093e-02  8.44994985e-17]\n",
      "Epoch: 28: W = [-7.89331794e-03 -5.26376595e-17]\n",
      "Epoch: 29: W = [-4.95110261e-03  3.74107995e-17]\n",
      "Epoch: 30: W = [-3.00577081e-03 -3.00506084e-17]\n"
     ]
    },
    {
     "data": {
      "text/plain": [
       "[array([-5., -2.]),\n",
       " array([-4.05132145, -1.05131678]),\n",
       " array([-3.43519754, -0.59152343]),\n",
       " array([-2.95893693, -0.3294394 ]),\n",
       " array([-2.56546289, -0.17756482]),\n",
       " array([-2.22920552, -0.09163256]),\n",
       " array([-1.93626752, -0.04494499]),\n",
       " array([-1.67817686, -0.02081423]),\n",
       " array([-1.44934985, -0.00903559]),\n",
       " array([-1.24588199, -0.00364591]),\n",
       " array([-1.06490301, -0.00135351]),\n",
       " array([-9.04202260e-01, -4.56444431e-04]),\n",
       " array([-7.61996495e-01, -1.37562928e-04]),\n",
       " array([-6.36778499e-01, -3.62601019e-05]),\n",
       " array([-5.27215237e-01, -8.11337456e-06]),\n",
       " array([-4.32078505e-01, -1.47473412e-06]),\n",
       " array([-3.50198507e-01, -2.02783991e-07]),\n",
       " array([-2.80434649e-01, -1.84231187e-08]),\n",
       " array([-2.21659834e-01, -7.67742748e-10]),\n",
       " array([-1.72755512e-01,  7.80451998e-12]),\n",
       " array([-1.32615134e-01, -5.05794800e-13]),\n",
       " array([-1.00153779e-01,  6.19123501e-14]),\n",
       " array([-7.43217708e-02, -1.13373781e-14]),\n",
       " array([-5.41201278e-02,  2.80166702e-15]),\n",
       " array([-3.86159157e-02, -8.81341191e-16]),\n",
       " array([-2.69558066e-02,  3.39921117e-16]),\n",
       " array([-1.83765633e-02, -1.56581731e-16]),\n",
       " array([-1.22116093e-02,  8.44994985e-17]),\n",
       " array([-7.89331794e-03, -5.26376595e-17]),\n",
       " array([-4.95110261e-03,  3.74107995e-17]),\n",
       " array([-3.00577081e-03, -3.00506084e-17])]"
      ]
     },
     "execution_count": 58,
     "metadata": {},
     "output_type": "execute_result"
    }
   ],
   "source": [
    "def train_p1_3(optimizer, lr, epochs, gamma):\n",
    "    W = np.array([-5,-2], dtype=np.float64)\n",
    "    results = [W]\n",
    "    S = np.zeros_like(W)\n",
    "    for i in range(epochs):\n",
    "        dW = df_w(W)\n",
    "        W, S =optimizer(W, dW, lr, S, gamma)\n",
    "        results.append(W)\n",
    "        print(\"Epoch: {:>2}: W = {}\".format(i + 1, W))\n",
    "    return results\n",
    "\n",
    "epoch = 30\n",
    "lr = 0.3\n",
    "gamma = 0.9\n",
    "train_p1_3(RMSProp, lr, epoch, gamma)\n"
   ]
  },
  {
   "cell_type": "markdown",
   "metadata": {},
   "source": [
    "# 4. Adam\n"
   ]
  },
  {
   "cell_type": "code",
   "execution_count": null,
   "metadata": {},
   "outputs": [],
   "source": [
    "def Adam(W, dW, lr, V, S, beta1, beta2, t):\n",
    "\n",
    "    epsilon = 1e-6\n",
    "    V = np.array(beta1*V + (1-beta1)*dW)\n",
    "    S = np.array(beta2*S + (1-beta2)*dW**2)\n",
    "    V_hat = V/(1-beta1**t)\n",
    "    S_hat = S/(1-beta2**t)\n",
    "    W = np.array(W - lr*V_hat/np.sqrt(S_hat + epsilon))\n",
    "    return W, V, S\n"
   ]
  },
  {
   "cell_type": "code",
   "execution_count": null,
   "metadata": {},
   "outputs": [
    {
     "name": "stdout",
     "output_type": "stream",
     "text": [
      "Epoch:  1: W = [-4.8000001 -1.8      ]\n",
      "Epoch:  2: W = [-4.60025458 -1.60082446]\n",
      "Epoch:  3: W = [-4.40094818 -1.40317255]\n",
      "Epoch:  4: W = [-4.20227724 -1.20787812]\n",
      "Epoch:  5: W = [-4.00444983 -1.01592732]\n",
      "Epoch:  6: W = [-3.80768579 -0.82847292]\n",
      "Epoch:  7: W = [-3.61221664 -0.64684142]\n",
      "Epoch:  8: W = [-3.41828545 -0.47252746]\n",
      "Epoch:  9: W = [-3.22614653 -0.30716913]\n",
      "Epoch: 10: W = [-3.03606497 -0.15249832]\n",
      "Epoch: 11: W = [-2.84831603 -0.01026302]\n",
      "Epoch: 12: W = [-2.66318433  0.11787577]\n",
      "Epoch: 13: W = [-2.48096283  0.23046186]\n",
      "Epoch: 14: W = [-2.30195156  0.32635894]\n",
      "Epoch: 15: W = [-2.12645613  0.40484216]\n",
      "Epoch: 16: W = [-1.95478597  0.46564981]\n",
      "Epoch: 17: W = [-1.7872523   0.50898816]\n",
      "Epoch: 18: W = [-1.62416583  0.53549455]\n",
      "Epoch: 19: W = [-1.46583419  0.54617153]\n",
      "Epoch: 20: W = [-1.31255919  0.54230818]\n",
      "Epoch: 21: W = [-1.16463376  0.52540208]\n",
      "Epoch: 22: W = [-1.02233886  0.49709058]\n",
      "Epoch: 23: W = [-0.88594013  0.45909505]\n",
      "Epoch: 24: W = [-0.75568468  0.41317772]\n",
      "Epoch: 25: W = [-0.63179773  0.36110878]\n",
      "Epoch: 26: W = [-0.51447945  0.30464032]\n",
      "Epoch: 27: W = [-0.40390206  0.2454839 ]\n",
      "Epoch: 28: W = [-0.30020707  0.18528898]\n",
      "Epoch: 29: W = [-0.20350296  0.12562052]\n",
      "Epoch: 30: W = [-0.11386333  0.06793506]\n"
     ]
    },
    {
     "data": {
      "text/plain": [
       "[array([-5., -2.]),\n",
       " array([-4.8000001, -1.8      ]),\n",
       " array([-4.60025458, -1.60082446]),\n",
       " array([-4.40094818, -1.40317255]),\n",
       " array([-4.20227724, -1.20787812]),\n",
       " array([-4.00444983, -1.01592732]),\n",
       " array([-3.80768579, -0.82847292]),\n",
       " array([-3.61221664, -0.64684142]),\n",
       " array([-3.41828545, -0.47252746]),\n",
       " array([-3.22614653, -0.30716913]),\n",
       " array([-3.03606497, -0.15249832]),\n",
       " array([-2.84831603, -0.01026302]),\n",
       " array([-2.66318433,  0.11787577]),\n",
       " array([-2.48096283,  0.23046186]),\n",
       " array([-2.30195156,  0.32635894]),\n",
       " array([-2.12645613,  0.40484216]),\n",
       " array([-1.95478597,  0.46564981]),\n",
       " array([-1.7872523 ,  0.50898816]),\n",
       " array([-1.62416583,  0.53549455]),\n",
       " array([-1.46583419,  0.54617153]),\n",
       " array([-1.31255919,  0.54230818]),\n",
       " array([-1.16463376,  0.52540208]),\n",
       " array([-1.02233886,  0.49709058]),\n",
       " array([-0.88594013,  0.45909505]),\n",
       " array([-0.75568468,  0.41317772]),\n",
       " array([-0.63179773,  0.36110878]),\n",
       " array([-0.51447945,  0.30464032]),\n",
       " array([-0.40390206,  0.2454839 ]),\n",
       " array([-0.30020707,  0.18528898]),\n",
       " array([-0.20350296,  0.12562052]),\n",
       " array([-0.11386333,  0.06793506])]"
      ]
     },
     "execution_count": 66,
     "metadata": {},
     "output_type": "execute_result"
    }
   ],
   "source": [
    "def train_p1_4(optimizer, lr, epochs, beta1, beta2):\n",
    "    W = np.array([-5,-2], dtype=np.float64)\n",
    "    results = [W]\n",
    "    V = np.zeros_like(W)\n",
    "    S = np.zeros_like(W)\n",
    "    for i in range(epochs):\n",
    "        dW = df_w(W)\n",
    "        W, V, S =optimizer(W, dW, lr, V, S, beta1, beta2, i+1)\n",
    "        results.append(W)\n",
    "        print(\"Epoch: {:>2}: W = {}\".format(i+1, W))\n",
    "    return results\n",
    "\n",
    "epoch = 30\n",
    "lr = 0.2\n",
    "beta1 = 0.9\n",
    "beta2 = 0.999\n",
    "train_p1_4(Adam, lr, epoch, beta1, beta2)\n"
   ]
  },
  {
   "cell_type": "code",
   "execution_count": null,
   "metadata": {},
   "outputs": [],
   "source": []
  },
  {
   "cell_type": "code",
   "execution_count": null,
   "metadata": {},
   "outputs": [],
   "source": []
  }
 ],
 "metadata": {
  "kernelspec": {
   "display_name": "pythonEnv",
   "language": "python",
   "name": "python3"
  },
  "language_info": {
   "codemirror_mode": {
    "name": "ipython",
    "version": 3
   },
   "file_extension": ".py",
   "mimetype": "text/x-python",
   "name": "python",
   "nbconvert_exporter": "python",
   "pygments_lexer": "ipython3",
   "version": "3.12.4"
  }
 },
 "nbformat": 4,
 "nbformat_minor": 2
}
