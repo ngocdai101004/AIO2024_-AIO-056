{
 "cells": [
  {
   "cell_type": "code",
   "execution_count": 3,
   "metadata": {},
   "outputs": [],
   "source": [
    "import numpy as np\n",
    "\n",
    "# Define the dataset as a list of lists\n",
    "data = [\n",
    "    [805, 51000, 1],\n",
    "    [780, 49500, 1],\n",
    "    [795, 52000, 1],\n",
    "    [820, 50500, 1],\n",
    "    [810, 48000, 1],\n",
    "    [785, 53000, 1],\n",
    "    [815, 49000, 1],\n",
    "    [800, 50000, 1],\n",
    "    [610, 31000, 0],\n",
    "    [590, 28000, 0],\n",
    "    [620, 33000, 0],\n",
    "    [580, 29000, 0],\n",
    "    [600, 32000, 0],\n",
    "    [595, 27000, 0],\n",
    "    [605, 34000, 0],\n",
    "    [585, 31500, 0]\n",
    "]\n",
    "\n",
    "# Convert the list of lists to a numpy array\n",
    "data = np.array(data)"
   ]
  },
  {
   "cell_type": "code",
   "execution_count": 40,
   "metadata": {},
   "outputs": [],
   "source": [
    "x10 = data[data[:, 2] == 1][:, 0]\n",
    "x11 = data[data[:, 2] == 1][:, 1]\n",
    "x00 = data[data[:, 2] == 0][:, 0]\n",
    "x01 = data[data[:, 2] == 0][:, 1]"
   ]
  },
  {
   "cell_type": "code",
   "execution_count": 44,
   "metadata": {},
   "outputs": [
    {
     "name": "stdout",
     "output_type": "stream",
     "text": [
      "Log of unnormalized probability for 'Đạt': -11.419187\n",
      "Log of unnormalized probability for 'Không đạt': -46.073488\n",
      "Normalized probability for 'Đạt': 1.000000000000\n",
      "Normalized probability for 'Không đạt': 0.000000\n"
     ]
    }
   ],
   "source": [
    "import numpy as np\n",
    "from scipy.stats import norm\n",
    "\n",
    "# Thông tin phân phối cho lớp \"Đạt\"\n",
    "mean_lumen_achieved = x10.mean()\n",
    "std_lumen_achieved = x10.std()\n",
    "mean_lifetime_achieved = x11.mean()\n",
    "std_lifetime_achieved = x11.std()\n",
    "\n",
    "# Thông tin phân phối cho lớp \"Không đạt\"\n",
    "mean_lumen_not_achieved = x00.mean()\n",
    "std_lumen_not_achieved = x00.std()\n",
    "mean_lifetime_not_achieved = x01.mean()\n",
    "std_lifetime_not_achieved = x01.std()\n",
    "\n",
    "# Xác suất của các lớp\n",
    "prob_achieved = 8 / 16  # Số bóng đèn \"Đạt\" / Tổng số bóng đèn\n",
    "prob_not_achieved = 8 / 16  # Số bóng đèn \"Không đạt\" / Tổng số bóng đèn\n",
    "\n",
    "# Dữ liệu của bóng đèn cần phân loại\n",
    "lumen = 750\n",
    "lifetime = 45000\n",
    "\n",
    "# Calculate conditional probabilities\n",
    "p_lumen_given_achieved = norm.pdf(\n",
    "    lumen, mean_lumen_achieved, std_lumen_achieved)\n",
    "p_lifetime_given_achieved = norm.pdf(\n",
    "    lifetime, mean_lifetime_achieved, std_lifetime_achieved)\n",
    "p_achieved = prob_achieved * p_lumen_given_achieved * p_lifetime_given_achieved\n",
    "\n",
    "p_lumen_given_not_achieved = norm.pdf(\n",
    "    lumen, mean_lumen_not_achieved, std_lumen_not_achieved)\n",
    "p_lifetime_given_not_achieved = norm.pdf(\n",
    "    lifetime, mean_lifetime_not_achieved, std_lifetime_not_achieved)\n",
    "p_not_achieved = prob_not_achieved * \\\n",
    "    p_lumen_given_not_achieved * p_lifetime_given_not_achieved\n",
    "\n",
    "# Logarithmic transformation\n",
    "log_p_achieved = np.log10(p_achieved)\n",
    "log_p_not_achieved = np.log10(p_not_achieved)\n",
    "\n",
    "# Display results\n",
    "print(f\"Log of unnormalized probability for 'Đạt': {log_p_achieved:.6f}\")\n",
    "print(f\"Log of unnormalized probability for 'Không đạt': {\n",
    "      log_p_not_achieved:.6f}\")\n",
    "\n",
    "# Normalize probabilities\n",
    "total = p_achieved + p_not_achieved\n",
    "p_achieved_normalized = p_achieved / total\n",
    "p_not_achieved_normalized = p_not_achieved / total\n",
    "\n",
    "print(f\"Normalized probability for 'Đạt': {p_achieved_normalized:.12f}\")\n",
    "print(f\"Normalized probability for 'Không đạt': {\n",
    "      p_not_achieved_normalized:.6f}\")"
   ]
  },
  {
   "cell_type": "markdown",
   "metadata": {},
   "source": [
    "# Problem 45:\n"
   ]
  },
  {
   "cell_type": "code",
   "execution_count": 47,
   "metadata": {},
   "outputs": [],
   "source": [
    "X = np.array([-2, 7, 3, 0, 6, 1, -3, 6, 5, -3])"
   ]
  },
  {
   "cell_type": "code",
   "execution_count": 49,
   "metadata": {},
   "outputs": [
    {
     "data": {
      "text/plain": [
       "2.0"
      ]
     },
     "execution_count": 49,
     "metadata": {},
     "output_type": "execute_result"
    }
   ],
   "source": [
    "X.mean()"
   ]
  },
  {
   "cell_type": "markdown",
   "metadata": {},
   "source": [
    "# Problem 46:\n"
   ]
  },
  {
   "cell_type": "code",
   "execution_count": 51,
   "metadata": {},
   "outputs": [],
   "source": [
    "X = np.array([7, 0, 9, 2, 5, 7])"
   ]
  },
  {
   "cell_type": "code",
   "execution_count": 53,
   "metadata": {},
   "outputs": [
    {
     "data": {
      "text/plain": [
       "6.0"
      ]
     },
     "execution_count": 53,
     "metadata": {},
     "output_type": "execute_result"
    }
   ],
   "source": [
    "np.median(X)"
   ]
  },
  {
   "cell_type": "markdown",
   "metadata": {},
   "source": [
    "# Problem 47:\n"
   ]
  },
  {
   "cell_type": "code",
   "execution_count": 60,
   "metadata": {},
   "outputs": [],
   "source": [
    "X = np.array([84, 30, 26, 85, 40, 69, 28, 28, 85, 33, 81, 29, 9, 24, 3])"
   ]
  },
  {
   "cell_type": "code",
   "execution_count": 61,
   "metadata": {},
   "outputs": [
    {
     "data": {
      "text/plain": [
       "776.9066666666666"
      ]
     },
     "execution_count": 61,
     "metadata": {},
     "output_type": "execute_result"
    }
   ],
   "source": [
    "X.std()**2"
   ]
  },
  {
   "cell_type": "code",
   "execution_count": 62,
   "metadata": {},
   "outputs": [
    {
     "data": {
      "text/plain": [
       "27.87304552191358"
      ]
     },
     "execution_count": 62,
     "metadata": {},
     "output_type": "execute_result"
    }
   ],
   "source": [
    "X.std()"
   ]
  },
  {
   "cell_type": "markdown",
   "metadata": {},
   "source": [
    "# Problem 48\n"
   ]
  },
  {
   "cell_type": "code",
   "execution_count": 66,
   "metadata": {},
   "outputs": [
    {
     "name": "stdout",
     "output_type": "stream",
     "text": [
      "X1 and Y1: -0.15\n",
      "X2 and Y2: 0.32\n",
      "X3 and Y3: -0.47\n",
      "X4 and Y4: 0.35\n"
     ]
    }
   ],
   "source": [
    "X1 = np.array([50, 53, 97, 45, 81, 61, 87, 66, 9, 34])\n",
    "Y1 = np.array([18, 46, 4, 54, 40, 32, 36, 2, 25, 19])\n",
    "\n",
    "X2 = np.array([13, 42, 17, 2, 83, 57, 19, 54, 19, 10])\n",
    "Y2 = np.array([51, 85, 2, 97, 86, 60, 76, 83, 17, 61])\n",
    "\n",
    "X3 = np.array([27, 38, 93, 60, 23, 10, 53, 46, 94, 3])\n",
    "Y3 = np.array([6, 70, 3, 65, 61, 76, 15, 9, 4, 25])\n",
    "\n",
    "X4 = np.array([23, 45, 77, 20, 89, 83, 87, 75, 56, 12])\n",
    "Y4 = np.array([13, 53, 62, 54, 57, 27, 29, 46, 79, 5])\n",
    "\n",
    "# Calculate Pearson correlation coefficients\n",
    "cor_X1_Y1 = np.corrcoef(X1, Y1)[0, 1]\n",
    "cor_X2_Y2 = np.corrcoef(X2, Y2)[0, 1]\n",
    "cor_X3_Y3 = np.corrcoef(X3, Y3)[0, 1]\n",
    "cor_X4_Y4 = np.corrcoef(X4, Y4)[0, 1]\n",
    "\n",
    "print(f\"X1 and Y1: {cor_X1_Y1:.2f}\")\n",
    "print(f\"X2 and Y2: {cor_X2_Y2:.2f}\")\n",
    "print(f\"X3 and Y3: {cor_X3_Y3:.2f}\")\n",
    "print(f\"X4 and Y4: {cor_X4_Y4:.2f}\")"
   ]
  },
  {
   "cell_type": "code",
   "execution_count": 69,
   "metadata": {},
   "outputs": [
    {
     "name": "stdout",
     "output_type": "stream",
     "text": [
      "Dot product for v1 and u1: 50\n",
      "Dot product for v3 and u3: -32\n",
      "Dot product for v4 and u4: 44\n"
     ]
    }
   ],
   "source": [
    "import numpy as np\n",
    "\n",
    "# Define the vectors\n",
    "v1, u1 = np.array([1, 2, 3, 4]), np.array([3, 4, 5, 6])\n",
    "v2, u2 = np.array([5, 6, 7]), np.array([2, 3])\n",
    "v3, u3 = np.array([-1, 2, -3]), np.array([4, -5, 6])\n",
    "v4, u4 = np.array([4, 2, 3]), np.array([4, 5, 6])\n",
    "\n",
    "# Calculate the dot products\n",
    "dot_product_1 = np.dot(v1, u1)\n",
    "# dot_product_2 = np.dot(v2, u2)\n",
    "dot_product_3 = np.dot(v3, u3)\n",
    "dot_product_4 = np.dot(v4, u4)\n",
    "\n",
    "print(f\"Dot product for v1 and u1: {dot_product_1}\")\n",
    "# print(f\"Dot product for v2 and u2: {dot_product_2}\")\n",
    "print(f\"Dot product for v3 and u3: {dot_product_3}\")\n",
    "print(f\"Dot product for v4 and u4: {dot_product_4}\")"
   ]
  },
  {
   "cell_type": "code",
   "execution_count": 70,
   "metadata": {},
   "outputs": [
    {
     "name": "stdout",
     "output_type": "stream",
     "text": [
      "Case (a) Result:\n",
      " [[122  24]\n",
      " [ 67  17]]\n",
      "Case (b) Result:\n",
      " [[19 22]\n",
      " [43 50]]\n",
      "Case (c) Matrix dimensions mismatch\n",
      "Case (d) Result:\n",
      " [[ 58  64]\n",
      " [139 154]]\n"
     ]
    }
   ],
   "source": [
    "import numpy as np\n",
    "\n",
    "# Case (a)\n",
    "A_a = np.array([[8, 8, 1], [2, 7, 1]])\n",
    "B_a = np.array([[8, 1], [7, 1], [2, 8]])\n",
    "\n",
    "result_a = np.dot(A_a, B_a)\n",
    "print(\"Case (a) Result:\\n\", result_a)\n",
    "\n",
    "# Case (b)\n",
    "A_b = np.array([[1, 2], [3, 4]])\n",
    "B_b = np.array([[5, 6], [7, 8]])\n",
    "\n",
    "result_b = np.dot(A_b, B_b)\n",
    "print(\"Case (b) Result:\\n\", result_b)\n",
    "\n",
    "# Case (c)\n",
    "A_c = np.array([[5, 2], [3, 4]])\n",
    "B_c = np.array([[5, 6], [7, 8], [3, 4]])\n",
    "\n",
    "# Check dimensions\n",
    "if A_c.shape[1] == B_c.shape[0]:\n",
    "    result_c = np.dot(A_c, B_c)\n",
    "    print(\"Case (c) Result:\\n\", result_c)\n",
    "    print(\"Matches C_c:\", np.array_equal(result_c, C_c))\n",
    "else:\n",
    "    print(\"Case (c) Matrix dimensions mismatch\")\n",
    "\n",
    "# Case (d)\n",
    "A_d = np.array([[1, 2, 3], [4, 5, 6]])\n",
    "B_d = np.array([[7, 8], [9, 10], [11, 12]])\n",
    "\n",
    "result_d = np.dot(A_d, B_d)\n",
    "print(\"Case (d) Result:\\n\", result_d)"
   ]
  },
  {
   "cell_type": "code",
   "execution_count": 81,
   "metadata": {},
   "outputs": [
    {
     "name": "stdout",
     "output_type": "stream",
     "text": [
      "Eigenvalues:\n",
      "[ 1. -1.]\n",
      "\n",
      "Eigenvectors:\n",
      "[[ 0.70710678 -0.70710678]\n",
      " [ 0.70710678  0.70710678]]\n"
     ]
    }
   ],
   "source": [
    "import numpy as np\n",
    "\n",
    "# Define the matrix\n",
    "matrix = np.array([[0, 1], [1, 0]])\n",
    "\n",
    "# Compute the eigenvalues and eigenvectors\n",
    "eigenvalues, eigenvectors = np.linalg.eig(matrix)\n",
    "\n",
    "# Print the results\n",
    "print(\"Eigenvalues:\")\n",
    "print(eigenvalues)\n",
    "print(\"\\nEigenvectors:\")\n",
    "print(eigenvectors)"
   ]
  },
  {
   "cell_type": "code",
   "execution_count": 82,
   "metadata": {},
   "outputs": [
    {
     "name": "stdout",
     "output_type": "stream",
     "text": [
      "Case (a) Eigenvalues:\n",
      " [-2.  5.]\n",
      "Case (a) Eigenvectors:\n",
      " [[-0.8        -0.70710678]\n",
      " [ 0.6        -0.70710678]]\n",
      "Case (b) Eigenvalues:\n",
      " [3. 1.]\n",
      "Case (b) Eigenvectors:\n",
      " [[ 0.70710678 -0.70710678]\n",
      " [ 0.70710678  0.70710678]]\n",
      "Case (c) Eigenvalues:\n",
      " [ 1. -1.]\n",
      "Case (c) Eigenvectors:\n",
      " [[ 0.70710678 -0.70710678]\n",
      " [ 0.70710678  0.70710678]]\n",
      "Case (d) Eigenvalues:\n",
      " [ 1.61168440e+01 -1.11684397e+00 -3.38433605e-16]\n",
      "Case (d) Eigenvectors:\n",
      " [[-0.23197069 -0.78583024  0.40824829]\n",
      " [-0.52532209 -0.08675134 -0.81649658]\n",
      " [-0.8186735   0.61232756  0.40824829]]\n"
     ]
    }
   ],
   "source": [
    "import numpy as np\n",
    "\n",
    "# Case (a)\n",
    "A_a = np.array([[1, 4], [3, 2]])\n",
    "eigenvalues_a, eigenvectors_a = np.linalg.eig(A_a)\n",
    "print(\"Case (a) Eigenvalues:\\n\", eigenvalues_a)\n",
    "print(\"Case (a) Eigenvectors:\\n\", eigenvectors_a)\n",
    "\n",
    "# Case (b)\n",
    "A_b = np.array([[2, 1], [1, 2]])\n",
    "eigenvalues_b, eigenvectors_b = np.linalg.eig(A_b)\n",
    "print(\"Case (b) Eigenvalues:\\n\", eigenvalues_b)\n",
    "print(\"Case (b) Eigenvectors:\\n\", eigenvectors_b)\n",
    "\n",
    "# Case (c)\n",
    "A_c = np.array([[0, 1], [1, 0]])\n",
    "eigenvalues_c, eigenvectors_c = np.linalg.eig(A_c)\n",
    "print(\"Case (c) Eigenvalues:\\n\", eigenvalues_c)\n",
    "print(\"Case (c) Eigenvectors:\\n\", eigenvectors_c)\n",
    "\n",
    "# Case (d)\n",
    "A_d = np.array([[1, 2, 3], [4, 5, 6], [7, 8, 9]])\n",
    "eigenvalues_d, eigenvectors_d = np.linalg.eig(A_d)\n",
    "print(\"Case (d) Eigenvalues:\\n\", eigenvalues_d)\n",
    "print(\"Case (d) Eigenvectors:\\n\", eigenvectors_d)"
   ]
  },
  {
   "cell_type": "code",
   "execution_count": null,
   "metadata": {},
   "outputs": [],
   "source": [
    "import math\n",
    "\n",
    "\n",
    "class Solution:\n",
    "    def calculate_eigenvalues_eigenvectors(self, A):\n",
    "        def get_eigenvalues(matrix):\n",
    "            det = matrix[0][0] * matrix[1][1] - matrix[0][1] * matrix[1][0]\n",
    "            a, b, c, d = matrix[0][0], matrix[0][1], matrix[1][0], matrix[1][1]\n",
    "            trace = a + d\n",
    "            eigenvalue1 = (trace + (trace**2 - 4*det)**0.5) / 2\n",
    "            eigenvalue2 = (trace - (trace**2 - 4*det)**0.5) / 2\n",
    "\n",
    "            return eigenvalue1, eigenvalue2\n",
    "\n",
    "        def get_eigenvectors(matrix, eigenvalue):\n",
    "            _, eigenvectors = np.linalg.eig(matrix)\n",
    "            eigenvector1, eigenvector2 = eigenvectors[0], eigenvectors[1]\n",
    "            return eigenvector1, eigenvector2\n",
    "        A = np.array(A)\n",
    "        eigenvalue1, eigenvalue2 = get_eigenvalues(A)\n",
    "        eigenvalues = (eigenvalue1, eigenvalue2)\n",
    "        eigenvector1, eigenvector2 = get_eigenvectors(A, eigenvalues)\n",
    "\n",
    "        return {eigenvalue1: eigenvector1, eigenvalue2: eigenvector2}"
   ]
  },
  {
   "cell_type": "code",
   "execution_count": 88,
   "metadata": {},
   "outputs": [],
   "source": [
    "def get_eigenvalues(matrix):\n",
    "    det = matrix[0][0] * matrix[1][1] - matrix[0][1] * matrix[1][0]\n",
    "    a, b, c, d = matrix[0][0], matrix[0][1], matrix[1][0], matrix[1][1]\n",
    "    trace = a + d\n",
    "    eigenvalue1 = (trace + (trace**2 - 4*det)**0.5) / 2\n",
    "    eigenvalue2 = (trace - (trace**2 - 4*det)**0.5) / 2\n",
    "    return [eigenvalue1, eigenvalue2]\n",
    "\n",
    "A = [[1,4], [3, 2]]\n",
    "B = get_eigenvalues(A)"
   ]
  },
  {
   "cell_type": "code",
   "execution_count": 85,
   "metadata": {},
   "outputs": [],
   "source": [
    "import math"
   ]
  },
  {
   "cell_type": "code",
   "execution_count": 108,
   "metadata": {},
   "outputs": [],
   "source": [
    "def get_eigenvectors(matrix, eigenvalues):\n",
    "    def cal (matrix, eigenvalue):\n",
    "        lam = eigenvalue\n",
    "        print(lam)\n",
    "        a, b, c, d = float(matrix[0][0]-lam), float( matrix[0][1]), float( matrix[1][0]), float(matrix[1][1]-lam)\n",
    "        eigenvector = [-a/b, 1.0]\n",
    "        if eigenvector[0] < 0:\n",
    "            eigenvector = [eigenvector[0]*(-1), eigenvector[0]*(-1)]\n",
    "        len = math.sqrt( eigenvector[0]**2 + eigenvector[1]**2)\n",
    "        print('eigenvector', eigenvector)\n",
    "        print('len', len)\n",
    "\n",
    "        eigenvector = [eigenvector[0]/len, eigenvector[1]/len]\n",
    "        return eigenvector\n",
    "    eigenvector1 = cal(matrix, eigenvalues[0])\n",
    "    eigenvector2 = cal(matrix, eigenvalues[1])\n",
    "\n",
    "    return eigenvector1, eigenvector2"
   ]
  },
  {
   "cell_type": "code",
   "execution_count": 109,
   "metadata": {},
   "outputs": [
    {
     "name": "stdout",
     "output_type": "stream",
     "text": [
      "5.0\n",
      "eigenvector [1.0, 1.0]\n",
      "len 1.4142135623730951\n",
      "-2.0\n",
      "eigenvector [0.75, 0.75]\n",
      "len 1.0606601717798212\n"
     ]
    },
    {
     "data": {
      "text/plain": [
       "([0.7071067811865475, 0.7071067811865475],\n",
       " [0.7071067811865476, 0.7071067811865476])"
      ]
     },
     "execution_count": 109,
     "metadata": {},
     "output_type": "execute_result"
    }
   ],
   "source": [
    "get_eigenvectors(A, B)"
   ]
  },
  {
   "cell_type": "code",
   "execution_count": 113,
   "metadata": {},
   "outputs": [],
   "source": [
    "import math\n",
    "import numpy as np\n",
    "\n",
    "\n",
    "class Solution:\n",
    "    def calculate_eigenvalues_eigenvectors(self, A):\n",
    "        def get_eigenvalues(matrix):\n",
    "            det = matrix[0][0] * matrix[1][1] - matrix[0][1] * matrix[1][0]\n",
    "            a, b, c, d = matrix[0][0], matrix[0][1], matrix[1][0], matrix[1][1]\n",
    "            trace = a + d\n",
    "            eigenvalue1 = (trace + (trace**2 - 4*det)**0.5) / 2\n",
    "            eigenvalue2 = (trace - (trace**2 - 4*det)**0.5) / 2\n",
    "            return eigenvalue1, eigenvalue2\n",
    "\n",
    "        def get_eigenvectors(matrix, eigenvalues):\n",
    "            def cal (matrix, eigenvalue):\n",
    "                lam = eigenvalue\n",
    "                print(lam)\n",
    "                a, b, c, d = float(matrix[0][0]-lam), float( matrix[0][1]), float( matrix[1][0]), float(matrix[1][1]-lam)\n",
    "                eigenvector = [-a/b, 1.0]\n",
    "                if eigenvector[0] > 0:\n",
    "                    eigenvector = [eigenvector[0]*(-1), eigenvector[0]*(-1)]\n",
    "                len = math.sqrt( eigenvector[0]**2 + eigenvector[1]**2)\n",
    "                print('eigenvector', eigenvector)\n",
    "                print('len', len)\n",
    "\n",
    "                eigenvector = [eigenvector[0]/len, eigenvector[1]/len]\n",
    "                return eigenvector\n",
    "            eigenvector1 = cal(matrix, eigenvalues[0])\n",
    "            eigenvector2 = cal(matrix, eigenvalues[1])\n",
    "\n",
    "            return eigenvector1, eigenvector2\n",
    "    \n",
    "        eigenvalues = get_eigenvalues(A)\n",
    "        eigenvectors = get_eigenvectors(A, eigenvalues)\n",
    "        eigenvalue1, eigenvalue2 = eigenvalues\n",
    "        eigenvector1, eigenvector2 = eigenvectors \n",
    "\n",
    "        return {eigenvalue1: eigenvector1, eigenvalue2: eigenvector2}"
   ]
  },
  {
   "cell_type": "code",
   "execution_count": 114,
   "metadata": {},
   "outputs": [
    {
     "name": "stdout",
     "output_type": "stream",
     "text": [
      "5.0\n",
      "eigenvector [-1.0, -1.0]\n",
      "len 1.4142135623730951\n",
      "-2.0\n",
      "eigenvector [-0.75, 1.0]\n",
      "len 1.25\n"
     ]
    },
    {
     "data": {
      "text/plain": [
       "{5.0: [-0.7071067811865475, -0.7071067811865475], -2.0: [-0.6, 0.8]}"
      ]
     },
     "execution_count": 114,
     "metadata": {},
     "output_type": "execute_result"
    }
   ],
   "source": [
    "B = Solution()\n",
    "B.calculate_eigenvalues_eigenvectors(A)"
   ]
  },
  {
   "cell_type": "code",
   "execution_count": 115,
   "metadata": {},
   "outputs": [],
   "source": [
    "class Solution:\n",
    "    def calculate_cosine_similarity(self, X, Y):\n",
    "        if len(X) != len(Y):\n",
    "            return -1\n",
    "        num = sum(x * y for x, y in zip(X, Y))\n",
    "        len_X = math.sqrt(sum(x ** 2 for x in X))\n",
    "        len_Y = math.sqrt(sum(y ** 2 for y in Y))\n",
    "        den = len_X*len_Y\n",
    "        return num/den\n",
    "\n",
    "        pass"
   ]
  },
  {
   "cell_type": "code",
   "execution_count": 3,
   "metadata": {},
   "outputs": [],
   "source": [
    "import torch"
   ]
  },
  {
   "cell_type": "code",
   "execution_count": 4,
   "metadata": {},
   "outputs": [
    {
     "data": {
      "text/plain": [
       "False"
      ]
     },
     "execution_count": 4,
     "metadata": {},
     "output_type": "execute_result"
    }
   ],
   "source": [
    "torch.cuda.is_available()"
   ]
  },
  {
   "cell_type": "code",
   "execution_count": null,
   "metadata": {},
   "outputs": [],
   "source": []
  }
 ],
 "metadata": {
  "kernelspec": {
   "display_name": "pythonEnv",
   "language": "python",
   "name": "python3"
  },
  "language_info": {
   "codemirror_mode": {
    "name": "ipython",
    "version": 3
   },
   "file_extension": ".py",
   "mimetype": "text/x-python",
   "name": "python",
   "nbconvert_exporter": "python",
   "pygments_lexer": "ipython3",
   "version": "3.12.2"
  }
 },
 "nbformat": 4,
 "nbformat_minor": 2
}
